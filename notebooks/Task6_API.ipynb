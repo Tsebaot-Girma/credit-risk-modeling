{
 "cells": [
  {
   "cell_type": "markdown",
   "metadata": {},
   "source": [
    "# Credit Risk Prediction API\n",
    " \n",
    "This notebook demonstrates:\n",
    "1. API server setup\n",
    "2. Model serving\n",
    "3. Real-time prediction testing"
   ]
  },
  {
   "cell_type": "markdown",
   "metadata": {},
   "source": [
    "## 1. Install Dependencies\n",
    "Run this cell first"
   ]
  },
  {
   "cell_type": "code",
   "execution_count": 1,
   "metadata": {},
   "outputs": [],
   "source": [
    "%load_ext autoreload"
   ]
  },
  {
   "cell_type": "code",
   "execution_count": 2,
   "metadata": {},
   "outputs": [],
   "source": [
    "%autoreload 2"
   ]
  },
  {
   "cell_type": "code",
   "execution_count": 14,
   "metadata": {},
   "outputs": [],
   "source": [
    "!pip install fastapi uvicorn python-multipart joblib\n",
    "\n"
   ]
  },
  {
   "cell_type": "markdown",
   "metadata": {},
   "source": [
    "## 2. Verify Model File"
   ]
  },
  {
   "cell_type": "code",
   "execution_count": 15,
   "metadata": {},
   "outputs": [
    {
     "name": "stdout",
     "output_type": "stream",
     "text": [
      "Current Directory: C:\\Users\\Tsebaot\\Desktop\\week 6\\credit-risk-modeling\n",
      "API File Exists: True\n"
     ]
    }
   ],
   "source": [
    "\n",
    "import os\n",
    "from pathlib import Path\n",
    "\n",
    "# 1. Navigate to project root\n",
    "project_root = Path().resolve().parent\n",
    "os.chdir(project_root)  # Change working directory\n",
    "\n",
    "# 2. Verify paths\n",
    "print(f\"Current Directory: {os.getcwd()}\")\n",
    "print(f\"API File Exists: {Path('scripts/api.py').exists()}\")\n",
    "\n"
   ]
  },
  {
   "cell_type": "code",
   "execution_count": 16,
   "metadata": {},
   "outputs": [
    {
     "name": "stdout",
     "output_type": "stream",
     "text": [
      "Model exists: 164.8 KB\n"
     ]
    }
   ],
   "source": [
    "\n",
    "MODEL_PATH = Path(\"models/credit_risk_model.pkl\")\n",
    "assert MODEL_PATH.exists(), \"Model file not found!\"\n",
    "print(f\"Model exists: {MODEL_PATH.stat().st_size/1024:.1f} KB\")\n",
    "\n"
   ]
  },
  {
   "cell_type": "code",
   "execution_count": 17,
   "metadata": {},
   "outputs": [],
   "source": [
    "# Check if uvicorn is available\n",
    "!uvicorn --version"
   ]
  },
  {
   "cell_type": "code",
   "execution_count": 18,
   "metadata": {},
   "outputs": [
    {
     "name": "stdout",
     "output_type": "stream",
     "text": [
      "Model path: C:\\Users\\Tsebaot\\Desktop\\week 6\\credit-risk-modeling\\models\\credit_risk_model.pkl\n"
     ]
    }
   ],
   "source": [
    "# Check paths before starting server\n",
    "from pathlib import Path\n",
    "\n",
    "# Should print: credit-risk-modeling/models/credit_risk_model.pkl\n",
    "print(\"Model path:\", (Path().cwd() / \"models\" / \"credit_risk_model.pkl\").resolve())"
   ]
  },
  {
   "cell_type": "code",
   "execution_count": 49,
   "metadata": {},
   "outputs": [
    {
     "name": "stdout",
     "output_type": "stream",
     "text": [
      "Current working directory: C:\\Users\\Tsebaot\\Desktop\\week 6\\credit-risk-modeling\n"
     ]
    }
   ],
   "source": [
    "import os\n",
    "print(\"Current working directory:\", os.getcwd())\n",
    "# Should show project root, not notebooks/"
   ]
  },
  {
   "cell_type": "markdown",
   "metadata": {},
   "source": [
    "## 3. Start API Server\n",
    "Run this cell and keep it running"
   ]
  },
  {
   "cell_type": "code",
   "execution_count": 63,
   "metadata": {},
   "outputs": [],
   "source": [
    "\n",
    "!uvicorn scripts.api:app --reload --host 0.0.0.0 --port 8000\n",
    "\n"
   ]
  },
  {
   "cell_type": "markdown",
   "metadata": {},
   "source": [
    "## 4. Test API Endpoint\n",
    "Run in a new cell while server is running"
   ]
  },
  {
   "cell_type": "code",
   "execution_count": 53,
   "metadata": {},
   "outputs": [
    {
     "name": "stdout",
     "output_type": "stream",
     "text": [
      "Model Info: {'detail': 'Not Found'}\n",
      "Error: Expecting value: line 1 column 1 (char 0)\n",
      "Check the server logs above for detailed error messages!\n"
     ]
    }
   ],
   "source": [
    "import requests\n",
    "\n",
    "try:\n",
    "    # Test model info endpoint\n",
    "    response = requests.get(\"http://localhost:8000/model_info\")\n",
    "    print(\"Model Info:\", response.json())\n",
    "    \n",
    "    # Test prediction endpoint\n",
    "    test_data = {\n",
    "        \"Amount\": 15000.0,\n",
    "        \"TransactionCount\": 8,\n",
    "        \"Recency\": 30\n",
    "    }\n",
    "    prediction = requests.post(\"http://localhost:8000/predict\", json=test_data)\n",
    "    print(\"Prediction:\", prediction.json())\n",
    "    \n",
    "except Exception as e:\n",
    "    print(f\"Error: {str(e)}\")\n",
    "    print(\"Check the server logs above for detailed error messages!\")"
   ]
  },
  {
   "cell_type": "code",
   "execution_count": null,
   "metadata": {},
   "outputs": [],
   "source": [
    "import requests\n",
    "print(requests.get(\"http://localhost:8000/model_info\").json())"
   ]
  },
  {
   "cell_type": "code",
   "execution_count": 56,
   "metadata": {},
   "outputs": [
    {
     "name": "stdout",
     "output_type": "stream",
     "text": [
      "HTTP Error: 500 Server Error: Internal Server Error for url: http://localhost:8000/predict\n",
      "Server Response: Internal Server Error\n"
     ]
    }
   ],
   "source": [
    "import requests\n",
    "\n",
    "\n",
    "test_data = {\n",
    "    \"Amount\": 15000.0,\n",
    "    \"TransactionCount\": 8,\n",
    "    \"Recency\": 30\n",
    "}\n",
    "\n",
    "try:\n",
    "    response = requests.post(\"http://localhost:8000/predict\", json=test_data)\n",
    "    response.raise_for_status()  # Raise exception for 4XX/5XX status codes\n",
    "    print(\"Prediction:\", response.json())\n",
    "except requests.exceptions.HTTPError as err:\n",
    "    print(f\"HTTP Error: {err}\")\n",
    "    print(\"Server Response:\", err.response.text)\n",
    "except Exception as err:\n",
    "    print(f\"Other Error: {err}\")\n",
    "\n",
    "\n",
    "#print(\"Response Status:\", response.status_code)\n",
    "#print(\"Prediction Result:\", json.dumps(response.json(), indent=2))"
   ]
  },
  {
   "cell_type": "markdown",
   "metadata": {},
   "source": [
    "## 5. Batch Testing"
   ]
  },
  {
   "cell_type": "code",
   "execution_count": null,
   "metadata": {},
   "outputs": [],
   "source": [
    "test_cases = [\n",
    "    {\"Amount\": 5000, \"TransactionCount\": 2, \"Recency\": 60},\n",
    "    {\"Amount\": 25000, \"TransactionCount\": 15, \"Recency\": 7},\n",
    "    {\"Amount\": -3000, \"TransactionCount\": 3, \"Recency\": 45}\n",
    "]\n",
    "\n",
    "for case in test_cases:\n",
    "    response = requests.post(\"http://localhost:8000/predict\", json=case)\n",
    "    print(f\"Input: {case} => Risk: {response.json()['risk_score']}\")\n",
    "\n"
   ]
  },
  {
   "cell_type": "markdown",
   "metadata": {},
   "source": [
    "\n",
    "## 6. API Documentation\n",
    "Access these while server is running:\n",
    "- [API Docs](http://localhost:8000/docs)\n",
    "- [Redoc](http://localhost:8000/redoc)\n",
    "\n",
    "\n",
    "## Deployment Notes\n",
    "To run as production:\n",
    "```bash\n",
    "uvicorn scripts.api:app --host 0.0.0.0 --port 80\n",
    "```"
   ]
  }
 ],
 "metadata": {
  "kernelspec": {
   "display_name": "week-6",
   "language": "python",
   "name": "python3"
  },
  "language_info": {
   "codemirror_mode": {
    "name": "ipython",
    "version": 3
   },
   "file_extension": ".py",
   "mimetype": "text/x-python",
   "name": "python",
   "nbconvert_exporter": "python",
   "pygments_lexer": "ipython3",
   "version": "3.10.0"
  }
 },
 "nbformat": 4,
 "nbformat_minor": 2
}
