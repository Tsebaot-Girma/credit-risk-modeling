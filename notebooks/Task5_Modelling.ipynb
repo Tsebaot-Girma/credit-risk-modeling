{
 "cells": [
  {
   "cell_type": "markdown",
   "metadata": {},
   "source": [
    "# Credit Risk Model Training\n",
    " \n",
    "This notebook demonstrates:\n",
    "1. Train/test split\n",
    "2. Random Forest model training with hyperparameter tuning\n",
    "3. Model evaluation"
   ]
  },
  {
   "cell_type": "code",
   "execution_count": 1,
   "metadata": {},
   "outputs": [],
   "source": [
    "%load_ext autoreload"
   ]
  },
  {
   "cell_type": "code",
   "execution_count": 94,
   "metadata": {},
   "outputs": [],
   "source": [
    "%autoreload 2"
   ]
  },
  {
   "cell_type": "code",
   "execution_count": 95,
   "metadata": {},
   "outputs": [],
   "source": [
    "import warnings\n",
    "\n",
    "# Suppress specific warnings\n",
    "warnings.filterwarnings(\"ignore\", category=FutureWarning)"
   ]
  },
  {
   "cell_type": "code",
   "execution_count": 96,
   "metadata": {},
   "outputs": [],
   "source": [
    "# Import dependencies\n",
    "%matplotlib inline\n",
    "import scorecardpy as sc\n",
    "import seaborn as sns\n",
    "import pandas as pd\n",
    "import numpy as np\n",
    "import matplotlib.pyplot as plt\n",
    "import os\n",
    "import sys\n",
    "from pathlib import Path\n",
    "sys.path.append(\"../scripts/\")\n",
    "from model import split_data, train_model, evaluate_model\n"
   ]
  },
  {
   "cell_type": "code",
   "execution_count": 97,
   "metadata": {},
   "outputs": [
    {
     "name": "stdout",
     "output_type": "stream",
     "text": [
      "labeled data shape: (3742, 17)\n"
     ]
    }
   ],
   "source": [
    "# Load LABELED data\n",
    "# 1. Define paths\n",
    "LABELED_DIR = Path(\"../data/processed\")\n",
    "LABELED_DATA = LABELED_DIR / \"labeled_data.parquet\"\n",
    "\n",
    "df = pd.read_parquet(LABELED_DATA)\n",
    "print(\"labeled data shape:\", df.shape)\n",
    "df.head()\n",
    "\n",
    "# Verify target exists\n",
    "assert 'Label' in df.columns, \"Missing target column!\"\n",
    "\n"
   ]
  },
  {
   "cell_type": "code",
   "execution_count": 98,
   "metadata": {},
   "outputs": [
    {
     "name": "stdout",
     "output_type": "stream",
     "text": [
      "Label\n",
      "Bad     2650\n",
      "Good    1092\n",
      "Name: count, dtype: int64\n"
     ]
    }
   ],
   "source": [
    "print(df['Label'].value_counts())\n"
   ]
  },
  {
   "cell_type": "markdown",
   "metadata": {},
   "source": [
    "## 1. Prepare Data for Modeling"
   ]
  },
  {
   "cell_type": "code",
   "execution_count": 99,
   "metadata": {},
   "outputs": [
    {
     "name": "stdout",
     "output_type": "stream",
     "text": [
      "Train shape: (2993, 15), Test shape: (749, 15)\n"
     ]
    }
   ],
   "source": [
    "# Separate features and target\n",
    "X = df.drop(['CustomerId', 'Label'], axis=1)\n",
    "y = df['Label']\n",
    "\n",
    "# Split data\n",
    "X_train, X_test, y_train, y_test = split_data(X, y, test_size=0.2)\n",
    "print(f\"Train shape: {X_train.shape}, Test shape: {X_test.shape}\")\n"
   ]
  },
  {
   "cell_type": "code",
   "execution_count": 100,
   "metadata": {},
   "outputs": [
    {
     "name": "stdout",
     "output_type": "stream",
     "text": [
      "TotalAmount                     float64\n",
      "AvgAmount                       float64\n",
      "TransactionCount                  int64\n",
      "StdAmount                       float64\n",
      "FirstTransaction    datetime64[ns, UTC]\n",
      "LastTransaction     datetime64[ns, UTC]\n",
      "TransactionMonth              period[M]\n",
      "DaysActive                        int64\n",
      "Recency                           int64\n",
      "Frequency                         int64\n",
      "Monetary                        float64\n",
      "Stability                         int64\n",
      "RecencyScore                      int64\n",
      "MonetaryScore                     int64\n",
      "RFM_Score                         int64\n",
      "dtype: object\n"
     ]
    }
   ],
   "source": [
    "print(X_train.dtypes)"
   ]
  },
  {
   "cell_type": "code",
   "execution_count": 101,
   "metadata": {},
   "outputs": [],
   "source": [
    "def preprocess_data(X):\n",
    "    # Step 1: Convert datetime columns to numeric\n",
    "    if 'FirstTransaction' in X.columns:\n",
    "        if X['FirstTransaction'].dt.tz is None:\n",
    "            X['FirstTransaction'] = X['FirstTransaction'].dt.tz_localize('UTC')\n",
    "        X['DaysSinceFirst'] = (pd.Timestamp.now(tz='UTC') - X['FirstTransaction']).dt.days\n",
    "        X.drop('FirstTransaction', axis=1, inplace=True)\n",
    "\n",
    "    if 'LastTransaction' in X.columns:\n",
    "        if X['LastTransaction'].dt.tz is None:\n",
    "            X['LastTransaction'] = X['LastTransaction'].dt.tz_localize('UTC')\n",
    "        X['DaysSinceLast'] = (pd.Timestamp.now(tz='UTC') - X['LastTransaction']).dt.days\n",
    "        X.drop('LastTransaction', axis=1, inplace=True)\n",
    "\n",
    "    if 'TransactionMonth' in X.columns:\n",
    "        X['TransactionYear'] = X['TransactionMonth'].dt.year\n",
    "        X['TransactionMonth'] = X['TransactionMonth'].dt.month  \n",
    "        X.drop('TransactionMonth', axis=1, inplace=True)  \n",
    "\n",
    "    # Step 3: Check for any remaining NaN values\n",
    "    X.fillna(method='ffill', inplace=True)\n",
    "\n",
    "    return X\n",
    "\n",
    "# Preprocess both training and test sets\n",
    "X_train_processed = preprocess_data(X_train)\n",
    "X_test_processed = preprocess_data(X_test)\n",
    "\n"
   ]
  },
  {
   "cell_type": "markdown",
   "metadata": {},
   "source": [
    "## 2. Train Random Forest Model"
   ]
  },
  {
   "cell_type": "code",
   "execution_count": 102,
   "metadata": {},
   "outputs": [
    {
     "name": "stdout",
     "output_type": "stream",
     "text": [
      "Best parameters: {'bootstrap': True, 'ccp_alpha': 0.0, 'class_weight': None, 'criterion': 'gini', 'max_depth': 5, 'max_features': 'sqrt', 'max_leaf_nodes': None, 'max_samples': None, 'min_impurity_decrease': 0.0, 'min_samples_leaf': 1, 'min_samples_split': 2, 'min_weight_fraction_leaf': 0.0, 'monotonic_cst': None, 'n_estimators': 100, 'n_jobs': None, 'oob_score': False, 'random_state': None, 'verbose': 0, 'warm_start': False}\n"
     ]
    }
   ],
   "source": [
    "# Train model with hyperparameter tuning\n",
    "rf_model = train_model(X_train_processed, y_train, model_type='rf')\n",
    "print(\"Best parameters:\", rf_model.get_params())\n",
    "\n"
   ]
  },
  {
   "cell_type": "markdown",
   "metadata": {},
   "source": [
    "## 3. Model Evaluation"
   ]
  },
  {
   "cell_type": "code",
   "execution_count": 103,
   "metadata": {},
   "outputs": [
    {
     "name": "stdout",
     "output_type": "stream",
     "text": [
      "\n",
      "Model Performance:\n",
      "Accuracy: 1.00\n",
      "ROC AUC: 1.00\n"
     ]
    }
   ],
   "source": [
    "# Evaluate performance\n",
    "metrics = evaluate_model(rf_model, X_test_processed, y_test)\n",
    "print(\"\\nModel Performance:\")\n",
    "print(f\"Accuracy: {metrics['accuracy']:.2f}\")\n",
    "print(f\"ROC AUC: {metrics['roc_auc']:.2f}\")\n",
    "\n"
   ]
  },
  {
   "cell_type": "code",
   "execution_count": 104,
   "metadata": {},
   "outputs": [
    {
     "name": "stdout",
     "output_type": "stream",
     "text": [
      "Cross-Validated Accuracy: 1.0\n"
     ]
    },
    {
     "data": {
      "image/png": "[encoded data removed]",
      "text/plain": [
       "<Figure size 640x480 with 1 Axes>"
      ]
     },
     "metadata": {},
     "output_type": "display_data"
    }
   ],
   "source": [
    "from sklearn.model_selection import cross_val_score, learning_curve\n",
    "import matplotlib.pyplot as plt\n",
    "\n",
    "# 1. Cross-validation to check for overfitting\n",
    "cv_scores = cross_val_score(rf_model, X_train_processed, y_train, cv=5, scoring='accuracy')\n",
    "print(\"Cross-Validated Accuracy:\", cv_scores.mean())\n",
    "\n",
    "# 2. Learning curve\n",
    "train_sizes, train_scores, test_scores = learning_curve(rf_model, X_train_processed, y_train, \n",
    "                                                         train_sizes=np.linspace(0.1, 1.0, 10), \n",
    "                                                         scoring='accuracy', random_state=42)\n",
    "\n",
    "# Calculate the average and standard deviation of training and test scores\n",
    "train_scores_mean = train_scores.mean(axis=1)\n",
    "test_scores_mean = test_scores.mean(axis=1)\n",
    "\n",
    "# Plot the learning curve\n",
    "plt.plot(train_sizes, train_scores_mean, label='Training score', color='blue')\n",
    "plt.plot(train_sizes, test_scores_mean, label='Cross-validation score', color='green')\n",
    "plt.title('Learning Curve')\n",
    "plt.xlabel('Training Samples')\n",
    "plt.ylabel('Score')\n",
    "plt.legend(loc='best')\n",
    "plt.grid()\n",
    "plt.show()"
   ]
  },
  {
   "cell_type": "markdown",
   "metadata": {},
   "source": [
    "## 4. Feature Importance Analysis"
   ]
  },
  {
   "cell_type": "code",
   "execution_count": 105,
   "metadata": {},
   "outputs": [
    {
     "data": {
      "image/png": "[encoded data removed]",
      "text/plain": [
       "<Figure size 1200x600 with 1 Axes>"
      ]
     },
     "metadata": {},
     "output_type": "display_data"
    }
   ],
   "source": [
    "# Plot feature importances\n",
    "importances = rf_model.feature_importances_\n",
    "features = X.columns\n",
    "indices = np.argsort(importances)[::-1]\n",
    "\n",
    "plt.figure(figsize=(12, 6))\n",
    "plt.title(\"Feature Importances\")\n",
    "plt.bar(range(X.shape[1]), importances[indices], align=\"center\")\n",
    "plt.xticks(range(X.shape[1]), features[indices], rotation=90)\n",
    "plt.xlabel(\"Feature\")\n",
    "plt.ylabel(\"Importance Score\")\n",
    "plt.tight_layout()\n",
    "plt.show()\n",
    "\n"
   ]
  },
  {
   "cell_type": "markdown",
   "metadata": {},
   "source": [
    "## 5. Save Trained Model"
   ]
  },
  {
   "cell_type": "code",
   "execution_count": 106,
   "metadata": {},
   "outputs": [
    {
     "name": "stdout",
     "output_type": "stream",
     "text": [
      "Model saved to ../models/credit_risk_model.pkl\n"
     ]
    }
   ],
   "source": [
    "import joblib\n",
    "\n",
    "MODEL_PATH = \"../models/credit_risk_model.pkl\"\n",
    "joblib.dump(rf_model, MODEL_PATH)\n",
    "print(f\"Model saved to {MODEL_PATH}\")"
   ]
  }
 ],
 "metadata": {
  "kernelspec": {
   "display_name": "week-6",
   "language": "python",
   "name": "python3"
  },
  "language_info": {
   "codemirror_mode": {
    "name": "ipython",
    "version": 3
   },
   "file_extension": ".py",
   "mimetype": "text/x-python",
   "name": "python",
   "nbconvert_exporter": "python",
   "pygments_lexer": "ipython3",
   "version": "3.10.0"
  }
 },
 "nbformat": 4,
 "nbformat_minor": 2
}
