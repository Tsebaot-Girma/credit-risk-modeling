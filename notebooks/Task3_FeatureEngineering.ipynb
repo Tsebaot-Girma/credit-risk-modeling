{
 "cells": [
  {
   "cell_type": "markdown",
   "metadata": {},
   "source": [
    "\n",
    "# Feature Engineering Pipeline\n",
    " \n",
    "This notebook demonstrates:\n",
    "1. Customer transaction aggregation\n",
    "2. Time-based feature extraction\n",
    "3. Feature preprocessing\n",
    "\n"
   ]
  },
  {
   "cell_type": "code",
   "execution_count": 2,
   "metadata": {},
   "outputs": [],
   "source": [
    "%load_ext autoreload"
   ]
  },
  {
   "cell_type": "code",
   "execution_count": 48,
   "metadata": {},
   "outputs": [],
   "source": [
    "%autoreload 2"
   ]
  },
  {
   "cell_type": "code",
   "execution_count": 49,
   "metadata": {},
   "outputs": [],
   "source": [
    "%matplotlib inline\n",
    "import pandas as pd\n",
    "import matplotlib.pyplot as plt\n",
    "import seaborn as sns\n",
    "import numpy as np\n",
    "import os\n",
    "import sys\n",
    "sys.path.append(\"../scripts/\")\n",
    "from load_data import read_csv_file\n",
    "import eda_functions as eda\n",
    "from feature_engineer import Aggregator, TimeFeatures"
   ]
  },
  {
   "cell_type": "code",
   "execution_count": 50,
   "metadata": {},
   "outputs": [
    {
     "name": "stdout",
     "output_type": "stream",
     "text": [
      "Raw data shape: (95662, 16)\n"
     ]
    },
    {
     "data": {
      "text/html": [
       "<div>\n",
       "<style scoped>\n",
       "    .dataframe tbody tr th:only-of-type {\n",
       "        vertical-align: middle;\n",
       "    }\n",
       "\n",
       "    .dataframe tbody tr th {\n",
       "        vertical-align: top;\n",
       "    }\n",
       "\n",
       "    .dataframe thead th {\n",
       "        text-align: right;\n",
       "    }\n",
       "</style>\n",
       "<table border=\"1\" class=\"dataframe\">\n",
       "  <thead>\n",
       "    <tr style=\"text-align: right;\">\n",
       "      <th></th>\n",
       "      <th>TransactionId</th>\n",
       "      <th>BatchId</th>\n",
       "      <th>AccountId</th>\n",
       "      <th>SubscriptionId</th>\n",
       "      <th>CustomerId</th>\n",
       "      <th>CurrencyCode</th>\n",
       "      <th>CountryCode</th>\n",
       "      <th>ProviderId</th>\n",
       "      <th>ProductId</th>\n",
       "      <th>ProductCategory</th>\n",
       "      <th>ChannelId</th>\n",
       "      <th>Amount</th>\n",
       "      <th>Value</th>\n",
       "      <th>TransactionStartTime</th>\n",
       "      <th>PricingStrategy</th>\n",
       "      <th>FraudResult</th>\n",
       "    </tr>\n",
       "  </thead>\n",
       "  <tbody>\n",
       "    <tr>\n",
       "      <th>0</th>\n",
       "      <td>TransactionId_76871</td>\n",
       "      <td>BatchId_36123</td>\n",
       "      <td>AccountId_3957</td>\n",
       "      <td>SubscriptionId_887</td>\n",
       "      <td>CustomerId_4406</td>\n",
       "      <td>UGX</td>\n",
       "      <td>256</td>\n",
       "      <td>ProviderId_6</td>\n",
       "      <td>ProductId_10</td>\n",
       "      <td>airtime</td>\n",
       "      <td>ChannelId_3</td>\n",
       "      <td>1000.0</td>\n",
       "      <td>1000</td>\n",
       "      <td>2018-11-15T02:18:49Z</td>\n",
       "      <td>2</td>\n",
       "      <td>0</td>\n",
       "    </tr>\n",
       "    <tr>\n",
       "      <th>1</th>\n",
       "      <td>TransactionId_73770</td>\n",
       "      <td>BatchId_15642</td>\n",
       "      <td>AccountId_4841</td>\n",
       "      <td>SubscriptionId_3829</td>\n",
       "      <td>CustomerId_4406</td>\n",
       "      <td>UGX</td>\n",
       "      <td>256</td>\n",
       "      <td>ProviderId_4</td>\n",
       "      <td>ProductId_6</td>\n",
       "      <td>financial_services</td>\n",
       "      <td>ChannelId_2</td>\n",
       "      <td>-20.0</td>\n",
       "      <td>20</td>\n",
       "      <td>2018-11-15T02:19:08Z</td>\n",
       "      <td>2</td>\n",
       "      <td>0</td>\n",
       "    </tr>\n",
       "    <tr>\n",
       "      <th>2</th>\n",
       "      <td>TransactionId_26203</td>\n",
       "      <td>BatchId_53941</td>\n",
       "      <td>AccountId_4229</td>\n",
       "      <td>SubscriptionId_222</td>\n",
       "      <td>CustomerId_4683</td>\n",
       "      <td>UGX</td>\n",
       "      <td>256</td>\n",
       "      <td>ProviderId_6</td>\n",
       "      <td>ProductId_1</td>\n",
       "      <td>airtime</td>\n",
       "      <td>ChannelId_3</td>\n",
       "      <td>500.0</td>\n",
       "      <td>500</td>\n",
       "      <td>2018-11-15T02:44:21Z</td>\n",
       "      <td>2</td>\n",
       "      <td>0</td>\n",
       "    </tr>\n",
       "    <tr>\n",
       "      <th>3</th>\n",
       "      <td>TransactionId_380</td>\n",
       "      <td>BatchId_102363</td>\n",
       "      <td>AccountId_648</td>\n",
       "      <td>SubscriptionId_2185</td>\n",
       "      <td>CustomerId_988</td>\n",
       "      <td>UGX</td>\n",
       "      <td>256</td>\n",
       "      <td>ProviderId_1</td>\n",
       "      <td>ProductId_21</td>\n",
       "      <td>utility_bill</td>\n",
       "      <td>ChannelId_3</td>\n",
       "      <td>20000.0</td>\n",
       "      <td>21800</td>\n",
       "      <td>2018-11-15T03:32:55Z</td>\n",
       "      <td>2</td>\n",
       "      <td>0</td>\n",
       "    </tr>\n",
       "    <tr>\n",
       "      <th>4</th>\n",
       "      <td>TransactionId_28195</td>\n",
       "      <td>BatchId_38780</td>\n",
       "      <td>AccountId_4841</td>\n",
       "      <td>SubscriptionId_3829</td>\n",
       "      <td>CustomerId_988</td>\n",
       "      <td>UGX</td>\n",
       "      <td>256</td>\n",
       "      <td>ProviderId_4</td>\n",
       "      <td>ProductId_6</td>\n",
       "      <td>financial_services</td>\n",
       "      <td>ChannelId_2</td>\n",
       "      <td>-644.0</td>\n",
       "      <td>644</td>\n",
       "      <td>2018-11-15T03:34:21Z</td>\n",
       "      <td>2</td>\n",
       "      <td>0</td>\n",
       "    </tr>\n",
       "  </tbody>\n",
       "</table>\n",
       "</div>"
      ],
      "text/plain": [
       "         TransactionId         BatchId       AccountId       SubscriptionId  \\\n",
       "0  TransactionId_76871   BatchId_36123  AccountId_3957   SubscriptionId_887   \n",
       "1  TransactionId_73770   BatchId_15642  AccountId_4841  SubscriptionId_3829   \n",
       "2  TransactionId_26203   BatchId_53941  AccountId_4229   SubscriptionId_222   \n",
       "3    TransactionId_380  BatchId_102363   AccountId_648  SubscriptionId_2185   \n",
       "4  TransactionId_28195   BatchId_38780  AccountId_4841  SubscriptionId_3829   \n",
       "\n",
       "        CustomerId CurrencyCode  CountryCode    ProviderId     ProductId  \\\n",
       "0  CustomerId_4406          UGX          256  ProviderId_6  ProductId_10   \n",
       "1  CustomerId_4406          UGX          256  ProviderId_4   ProductId_6   \n",
       "2  CustomerId_4683          UGX          256  ProviderId_6   ProductId_1   \n",
       "3   CustomerId_988          UGX          256  ProviderId_1  ProductId_21   \n",
       "4   CustomerId_988          UGX          256  ProviderId_4   ProductId_6   \n",
       "\n",
       "      ProductCategory    ChannelId   Amount  Value  TransactionStartTime  \\\n",
       "0             airtime  ChannelId_3   1000.0   1000  2018-11-15T02:18:49Z   \n",
       "1  financial_services  ChannelId_2    -20.0     20  2018-11-15T02:19:08Z   \n",
       "2             airtime  ChannelId_3    500.0    500  2018-11-15T02:44:21Z   \n",
       "3        utility_bill  ChannelId_3  20000.0  21800  2018-11-15T03:32:55Z   \n",
       "4  financial_services  ChannelId_2   -644.0    644  2018-11-15T03:34:21Z   \n",
       "\n",
       "   PricingStrategy  FraudResult  \n",
       "0                2            0  \n",
       "1                2            0  \n",
       "2                2            0  \n",
       "3                2            0  \n",
       "4                2            0  "
      ]
     },
     "execution_count": 50,
     "metadata": {},
     "output_type": "execute_result"
    }
   ],
   "source": [
    "# Load data\n",
    "path = '../data/raw/xente_data.csv'\n",
    "data =read_csv_file(path)\n",
    "df = data.get(\"data\")\n",
    "print(f\"Raw data shape: {df.shape}\")\n",
    "df.head()"
   ]
  },
  {
   "cell_type": "markdown",
   "metadata": {},
   "source": [
    "\n",
    "## 1. Customer Transaction Aggregation"
   ]
  },
  {
   "cell_type": "code",
   "execution_count": 51,
   "metadata": {},
   "outputs": [
    {
     "name": "stdout",
     "output_type": "stream",
     "text": [
      "\n",
      "Aggregated Features:\n",
      "Unique customers: 3742\n"
     ]
    },
    {
     "data": {
      "text/html": [
       "<div>\n",
       "<style scoped>\n",
       "    .dataframe tbody tr th:only-of-type {\n",
       "        vertical-align: middle;\n",
       "    }\n",
       "\n",
       "    .dataframe tbody tr th {\n",
       "        vertical-align: top;\n",
       "    }\n",
       "\n",
       "    .dataframe thead th {\n",
       "        text-align: right;\n",
       "    }\n",
       "</style>\n",
       "<table border=\"1\" class=\"dataframe\">\n",
       "  <thead>\n",
       "    <tr style=\"text-align: right;\">\n",
       "      <th></th>\n",
       "      <th>CustomerId</th>\n",
       "      <th>TotalAmount</th>\n",
       "      <th>AvgAmount</th>\n",
       "      <th>TransactionCount</th>\n",
       "      <th>StdAmount</th>\n",
       "      <th>FirstTransaction</th>\n",
       "      <th>LastTransaction</th>\n",
       "    </tr>\n",
       "  </thead>\n",
       "  <tbody>\n",
       "    <tr>\n",
       "      <th>0</th>\n",
       "      <td>CustomerId_1</td>\n",
       "      <td>-10000.0</td>\n",
       "      <td>-10000.000000</td>\n",
       "      <td>1</td>\n",
       "      <td>NaN</td>\n",
       "      <td>2018-11-21 16:49:14+00:00</td>\n",
       "      <td>2018-11-21 16:49:14+00:00</td>\n",
       "    </tr>\n",
       "    <tr>\n",
       "      <th>1</th>\n",
       "      <td>CustomerId_10</td>\n",
       "      <td>-10000.0</td>\n",
       "      <td>-10000.000000</td>\n",
       "      <td>1</td>\n",
       "      <td>NaN</td>\n",
       "      <td>2018-11-21 16:49:09+00:00</td>\n",
       "      <td>2018-11-21 16:49:09+00:00</td>\n",
       "    </tr>\n",
       "    <tr>\n",
       "      <th>2</th>\n",
       "      <td>CustomerId_1001</td>\n",
       "      <td>20000.0</td>\n",
       "      <td>4000.000000</td>\n",
       "      <td>5</td>\n",
       "      <td>6558.963333</td>\n",
       "      <td>2018-11-16 07:53:19+00:00</td>\n",
       "      <td>2018-11-16 08:20:39+00:00</td>\n",
       "    </tr>\n",
       "    <tr>\n",
       "      <th>3</th>\n",
       "      <td>CustomerId_1002</td>\n",
       "      <td>4225.0</td>\n",
       "      <td>384.090909</td>\n",
       "      <td>11</td>\n",
       "      <td>560.498966</td>\n",
       "      <td>2018-11-15 18:50:09+00:00</td>\n",
       "      <td>2019-01-18 10:05:00+00:00</td>\n",
       "    </tr>\n",
       "    <tr>\n",
       "      <th>4</th>\n",
       "      <td>CustomerId_1003</td>\n",
       "      <td>20000.0</td>\n",
       "      <td>3333.333333</td>\n",
       "      <td>6</td>\n",
       "      <td>6030.478146</td>\n",
       "      <td>2019-02-01 14:58:07+00:00</td>\n",
       "      <td>2019-02-01 15:04:51+00:00</td>\n",
       "    </tr>\n",
       "  </tbody>\n",
       "</table>\n",
       "</div>"
      ],
      "text/plain": [
       "        CustomerId  TotalAmount     AvgAmount  TransactionCount    StdAmount  \\\n",
       "0     CustomerId_1     -10000.0 -10000.000000                 1          NaN   \n",
       "1    CustomerId_10     -10000.0 -10000.000000                 1          NaN   \n",
       "2  CustomerId_1001      20000.0   4000.000000                 5  6558.963333   \n",
       "3  CustomerId_1002       4225.0    384.090909                11   560.498966   \n",
       "4  CustomerId_1003      20000.0   3333.333333                 6  6030.478146   \n",
       "\n",
       "           FirstTransaction           LastTransaction  \n",
       "0 2018-11-21 16:49:14+00:00 2018-11-21 16:49:14+00:00  \n",
       "1 2018-11-21 16:49:09+00:00 2018-11-21 16:49:09+00:00  \n",
       "2 2018-11-16 07:53:19+00:00 2018-11-16 08:20:39+00:00  \n",
       "3 2018-11-15 18:50:09+00:00 2019-01-18 10:05:00+00:00  \n",
       "4 2019-02-01 14:58:07+00:00 2019-02-01 15:04:51+00:00  "
      ]
     },
     "execution_count": 51,
     "metadata": {},
     "output_type": "execute_result"
    }
   ],
   "source": [
    "# Initialize and apply aggregator\n",
    "aggregator = Aggregator(customer_id='CustomerId')\n",
    "df_agg = aggregator.transform(df)\n",
    "\n",
    "# Display aggregated features\n",
    "print(\"\\nAggregated Features:\")\n",
    "print(f\"Unique customers: {df_agg['CustomerId'].nunique()}\")\n",
    "df_agg.head()\n"
   ]
  },
  {
   "cell_type": "markdown",
   "metadata": {},
   "source": [
    "## 2. Time-based Feature Extraction"
   ]
  },
  {
   "cell_type": "code",
   "execution_count": 52,
   "metadata": {},
   "outputs": [
    {
     "name": "stdout",
     "output_type": "stream",
     "text": [
      "\n",
      "Time Features Added:\n",
      "         TransactionId      TransactionStartTime  TransactionHour  \\\n",
      "0  TransactionId_76871 2018-11-15 02:18:49+00:00                2   \n",
      "1  TransactionId_73770 2018-11-15 02:19:08+00:00                2   \n",
      "2  TransactionId_26203 2018-11-15 02:44:21+00:00                2   \n",
      "3    TransactionId_380 2018-11-15 03:32:55+00:00                3   \n",
      "4  TransactionId_28195 2018-11-15 03:34:21+00:00                3   \n",
      "\n",
      "   TransactionDay  \n",
      "0              15  \n",
      "1              15  \n",
      "2              15  \n",
      "3              15  \n",
      "4              15  \n"
     ]
    }
   ],
   "source": [
    "# Initialize and apply time feature extractor\n",
    "time_processor = TimeFeatures()\n",
    "df_time = time_processor.transform(df)\n",
    "\n",
    "# Show time features\n",
    "print(\"\\nTime Features Added:\")\n",
    "print(df_time[['TransactionId', 'TransactionStartTime', 'TransactionHour', 'TransactionDay']].head())\n",
    "\n"
   ]
  },
  {
   "cell_type": "markdown",
   "metadata": {},
   "source": [
    "## 3. Feature Preprocessing Pipeline"
   ]
  },
  {
   "cell_type": "code",
   "execution_count": 53,
   "metadata": {},
   "outputs": [
    {
     "name": "stdout",
     "output_type": "stream",
     "text": [
      "Available columns: ['CustomerId', 'TotalAmount', 'AvgAmount', 'TransactionCount', 'StdAmount', 'FirstTransaction', 'LastTransaction']\n",
      "\n",
      "Final Processed Data Shape: (3742, 7)\n"
     ]
    },
    {
     "data": {
      "text/html": [
       "<div>\n",
       "<style scoped>\n",
       "    .dataframe tbody tr th:only-of-type {\n",
       "        vertical-align: middle;\n",
       "    }\n",
       "\n",
       "    .dataframe tbody tr th {\n",
       "        vertical-align: top;\n",
       "    }\n",
       "\n",
       "    .dataframe thead th {\n",
       "        text-align: right;\n",
       "    }\n",
       "</style>\n",
       "<table border=\"1\" class=\"dataframe\">\n",
       "  <thead>\n",
       "    <tr style=\"text-align: right;\">\n",
       "      <th></th>\n",
       "      <th>CustomerId</th>\n",
       "      <th>TotalAmount</th>\n",
       "      <th>AvgAmount</th>\n",
       "      <th>TransactionCount</th>\n",
       "      <th>StdAmount</th>\n",
       "      <th>FirstTransaction</th>\n",
       "      <th>LastTransaction</th>\n",
       "    </tr>\n",
       "  </thead>\n",
       "  <tbody>\n",
       "    <tr>\n",
       "      <th>0</th>\n",
       "      <td>CustomerId_1</td>\n",
       "      <td>-10000.0</td>\n",
       "      <td>-10000.000000</td>\n",
       "      <td>1</td>\n",
       "      <td>NaN</td>\n",
       "      <td>2018-11-21 16:49:14+00:00</td>\n",
       "      <td>2018-11-21 16:49:14+00:00</td>\n",
       "    </tr>\n",
       "    <tr>\n",
       "      <th>1</th>\n",
       "      <td>CustomerId_10</td>\n",
       "      <td>-10000.0</td>\n",
       "      <td>-10000.000000</td>\n",
       "      <td>1</td>\n",
       "      <td>NaN</td>\n",
       "      <td>2018-11-21 16:49:09+00:00</td>\n",
       "      <td>2018-11-21 16:49:09+00:00</td>\n",
       "    </tr>\n",
       "    <tr>\n",
       "      <th>2</th>\n",
       "      <td>CustomerId_1001</td>\n",
       "      <td>20000.0</td>\n",
       "      <td>4000.000000</td>\n",
       "      <td>5</td>\n",
       "      <td>6558.963333</td>\n",
       "      <td>2018-11-16 07:53:19+00:00</td>\n",
       "      <td>2018-11-16 08:20:39+00:00</td>\n",
       "    </tr>\n",
       "    <tr>\n",
       "      <th>3</th>\n",
       "      <td>CustomerId_1002</td>\n",
       "      <td>4225.0</td>\n",
       "      <td>384.090909</td>\n",
       "      <td>11</td>\n",
       "      <td>560.498966</td>\n",
       "      <td>2018-11-15 18:50:09+00:00</td>\n",
       "      <td>2019-01-18 10:05:00+00:00</td>\n",
       "    </tr>\n",
       "    <tr>\n",
       "      <th>4</th>\n",
       "      <td>CustomerId_1003</td>\n",
       "      <td>20000.0</td>\n",
       "      <td>3333.333333</td>\n",
       "      <td>6</td>\n",
       "      <td>6030.478146</td>\n",
       "      <td>2019-02-01 14:58:07+00:00</td>\n",
       "      <td>2019-02-01 15:04:51+00:00</td>\n",
       "    </tr>\n",
       "  </tbody>\n",
       "</table>\n",
       "</div>"
      ],
      "text/plain": [
       "        CustomerId  TotalAmount     AvgAmount  TransactionCount    StdAmount  \\\n",
       "0     CustomerId_1     -10000.0 -10000.000000                 1          NaN   \n",
       "1    CustomerId_10     -10000.0 -10000.000000                 1          NaN   \n",
       "2  CustomerId_1001      20000.0   4000.000000                 5  6558.963333   \n",
       "3  CustomerId_1002       4225.0    384.090909                11   560.498966   \n",
       "4  CustomerId_1003      20000.0   3333.333333                 6  6030.478146   \n",
       "\n",
       "           FirstTransaction           LastTransaction  \n",
       "0 2018-11-21 16:49:14+00:00 2018-11-21 16:49:14+00:00  \n",
       "1 2018-11-21 16:49:09+00:00 2018-11-21 16:49:09+00:00  \n",
       "2 2018-11-16 07:53:19+00:00 2018-11-16 08:20:39+00:00  \n",
       "3 2018-11-15 18:50:09+00:00 2019-01-18 10:05:00+00:00  \n",
       "4 2019-02-01 14:58:07+00:00 2019-02-01 15:04:51+00:00  "
      ]
     },
     "execution_count": 53,
     "metadata": {},
     "output_type": "execute_result"
    }
   ],
   "source": [
    "from sklearn.pipeline import Pipeline\n",
    "from feature_engineer import Aggregator\n",
    "\n",
    "# Create validated pipeline\n",
    "preprocessor = Pipeline([\n",
    "    ('aggregator', Aggregator(customer_id='CustomerId'))\n",
    "])\n",
    "\n",
    "# Proper sklearn-compatible transformation\n",
    "transformed_df = preprocessor.fit_transform(df)\n",
    "\n",
    "# Verify features\n",
    "print(\"Available columns:\", transformed_df.columns.tolist())\n",
    "\n",
    "# Final processed data\n",
    "print(\"\\nFinal Processed Data Shape:\", transformed_df.shape)\n",
    "transformed_df.head()"
   ]
  },
  {
   "cell_type": "markdown",
   "metadata": {},
   "source": [
    "## 4. Feature Analysis"
   ]
  },
  {
   "cell_type": "code",
   "execution_count": 54,
   "metadata": {},
   "outputs": [
    {
     "name": "stdout",
     "output_type": "stream",
     "text": [
      "Available columns: ['CustomerId', 'TotalAmount', 'AvgAmount', 'TransactionCount', 'StdAmount', 'FirstTransaction', 'LastTransaction']\n"
     ]
    },
    {
     "name": "stderr",
     "output_type": "stream",
     "text": [
      "C:\\Users\\Tsebaot\\AppData\\Local\\Temp\\ipykernel_13932\\332648095.py:18: UserWarning: Converting to PeriodArray/Index representation will drop timezone information.\n",
      "  transformed_df['TransactionMonth'] = pd.to_datetime(transformed_df['FirstTransaction']).dt.to_period('M')\n"
     ]
    },
    {
     "data": {
      "image/png": "[encoded data removed]",
      "text/plain": [
       "<Figure size 1600x600 with 2 Axes>"
      ]
     },
     "metadata": {},
     "output_type": "display_data"
    }
   ],
   "source": [
    "# Analyze aggregated features\n",
    "print(\"Available columns:\", transformed_df.columns.tolist())\n",
    "transformed_df.describe().T.style.background_gradient(cmap='Blues')\n",
    "\n",
    "# Plot meaningful transaction patterns\n",
    "plt.figure(figsize=(16, 6))\n",
    "\n",
    "# 1. Transaction Frequency Analysis\n",
    "plt.subplot(1, 2, 1)\n",
    "transformed_df['TransactionCount'].plot(\n",
    "    kind='hist', \n",
    "    bins=20,\n",
    "    title='Transaction Count Distribution per Customer'\n",
    ")\n",
    "plt.xlabel('Number of Transactions')\n",
    "\n",
    "# 2. Customer Tenure Analysis\n",
    "transformed_df['TransactionMonth'] = pd.to_datetime(transformed_df['FirstTransaction']).dt.to_period('M')\n",
    "plt.subplot(1, 2, 2)\n",
    "transformed_df['TransactionMonth'].value_counts().sort_index().plot(\n",
    "    kind='bar', \n",
    "    title='Customer Acquisition Over Time'\n",
    ")\n",
    "plt.xlabel('Month of First Transaction')\n",
    "plt.xticks(rotation=45)\n",
    "\n",
    "plt.tight_layout()\n",
    "plt.show()"
   ]
  },
  {
   "cell_type": "code",
   "execution_count": 55,
   "metadata": {},
   "outputs": [
    {
     "data": {
      "image/png": "[encoded data removed]",
      "text/plain": [
       "<Figure size 1200x600 with 1 Axes>"
      ]
     },
     "metadata": {},
     "output_type": "display_data"
    },
    {
     "data": {
      "image/png": "[encoded data removed]",
      "text/plain": [
       "<Figure size 1200x600 with 1 Axes>"
      ]
     },
     "metadata": {},
     "output_type": "display_data"
    }
   ],
   "source": [
    "# Customer Tenure Analysis\n",
    "transformed_df['DaysActive'] = (pd.to_datetime(transformed_df['LastTransaction']) - \n",
    "                               pd.to_datetime(transformed_df['FirstTransaction'])).dt.days\n",
    "\n",
    "plt.figure(figsize=(12, 6))\n",
    "sns.histplot(transformed_df['DaysActive'], bins=30, kde=True)\n",
    "plt.title('Customer Tenure Distribution')\n",
    "plt.xlabel('Days Between First and Last Transaction')\n",
    "plt.show()\n",
    "\n",
    "# Monetary Value Analysis\n",
    "plt.figure(figsize=(12, 6))\n",
    "sns.boxplot(x=transformed_df['TotalAmount'])\n",
    "plt.title('Distribution of Total Transaction Amounts')\n",
    "plt.xlabel('Total Amount per Customer')\n",
    "plt.show()"
   ]
  },
  {
   "cell_type": "markdown",
   "metadata": {},
   "source": [
    "## 5. Save Processed Data"
   ]
  },
  {
   "cell_type": "code",
   "execution_count": 56,
   "metadata": {},
   "outputs": [
    {
     "name": "stdout",
     "output_type": "stream",
     "text": [
      "✅ Processed Data saved to: ..\\data\\processed\\processed_data.parquet\n"
     ]
    }
   ],
   "source": [
    "# Save to parquet format\n",
    "from pathlib import Path\n",
    "\n",
    "# 1. Define paths\n",
    "PROCESSED_DIR = Path(\"../data/processed\")\n",
    "PROCESSED_DATA = PROCESSED_DIR / \"processed_data.parquet\"\n",
    "\n",
    "# 2. Create directory\n",
    "PROCESSED_DIR.mkdir(parents=True, exist_ok=True)\n",
    "\n",
    "# 3. Save data\n",
    "transformed_df.to_parquet(PROCESSED_DATA)\n",
    "print(f\"✅ Processed Data saved to: {PROCESSED_DATA}\")\n"
   ]
  },
  {
   "cell_type": "markdown",
   "metadata": {},
   "source": [
    "\n",
    " ## Key Features Created:\n",
    " - **Customer-level Aggregates:**\n",
    "   - TotalAmount: Sum of all transactions\n",
    "   - AvgAmount: Average transaction value  \n",
    "   - TransactionCount: Purchase frequency\n",
    "   - StdAmount: Spending variability\n",
    "   - First/LastTransaction: Customer tenure\n",
    " \n",
    " - **Temporal Features:**\n",
    "   - TransactionHour: Purchase time pattern\n",
    "   - TransactionDay: Day-of-month behavior"
   ]
  }
 ],
 "metadata": {
  "kernelspec": {
   "display_name": "week-6",
   "language": "python",
   "name": "python3"
  },
  "language_info": {
   "codemirror_mode": {
    "name": "ipython",
    "version": 3
   },
   "file_extension": ".py",
   "mimetype": "text/x-python",
   "name": "python",
   "nbconvert_exporter": "python",
   "pygments_lexer": "ipython3",
   "version": "3.10.0"
  }
 },
 "nbformat": 4,
 "nbformat_minor": 2
}
